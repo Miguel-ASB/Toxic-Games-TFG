{
 "cells": [
  {
   "cell_type": "code",
   "execution_count": 1,
   "id": "ddcd5aca",
   "metadata": {},
   "outputs": [
    {
     "name": "stdout",
     "output_type": "stream",
     "text": [
      "✅ App actualizada con control de categorías, visualización y limpieza.\n"
     ]
    }
   ],
   "source": [
    "app_code = '''\n",
    "import streamlit as st\n",
    "import joblib\n",
    "\n",
    "# Cargar modelo y vectorizador\n",
    "modelo = joblib.load(\"modelo.pkl\")\n",
    "vectorizador = joblib.load(\"vectorizador.pkl\")\n",
    "\n",
    "# Historial de chat\n",
    "if \"chat\" not in st.session_state:\n",
    "    st.session_state.chat = []\n",
    "\n",
    "# Botón para limpiar chat\n",
    "if st.button(\"🧹 Limpiar historial del chat\"):\n",
    "    st.session_state.chat = []\n",
    "\n",
    "st.title(\"Clasificador de mensajes Chat Videojuegos\")\n",
    "\n",
    "mensaje = st.text_input(\"Escribe tu mensaje:\")\n",
    "\n",
    "if st.button(\"Enviar\") and mensaje:\n",
    "    X = vectorizador.transform([mensaje])\n",
    "    categoria = modelo.predict(X)[0]\n",
    "\n",
    "    if categoria in [\"chitchat\", \"coordination\"]:\n",
    "        texto = f\"{mensaje} ({categoria})\"\n",
    "        st.session_state.chat.append((\"usuario\", texto, \"normal\", categoria))\n",
    "    elif categoria == \"toxic\":\n",
    "        advertencia = f\"⚠️ Este mensaje puede ser ofensivo ({categoria}): {mensaje}\"\n",
    "        st.session_state.chat.append((\"usuario\", advertencia, \"toxic\", categoria))\n",
    "    elif categoria in [\"racism\", \"religious\", \"sexist\"]:\n",
    "        razon = {\n",
    "            \"racism\": \"por lenguaje racista\",\n",
    "            \"religious\": \"por lenguaje religioso ofensivo\",\n",
    "            \"sexist\": \"por lenguaje sexista\"\n",
    "        }.get(categoria, \"por lenguaje inaceptable\")\n",
    "        texto_ban = f\"🚫 Has sido baneado del chat {razon}. (Clasificación: {categoria})\"\n",
    "        st.session_state.chat.append((\"sistema\", texto_ban, \"banned\", categoria))\n",
    "    else:\n",
    "        # Cualquier otra categoría desconocida se banea igualmente\n",
    "        texto_ban = f\"🚫 Has sido baneado del chat por lenguaje inaceptable. (Clasificación: {categoria})\"\n",
    "        st.session_state.chat.append((\"sistema\", texto_ban, \"banned\", categoria))\n",
    "\n",
    "# Mostrar historial de mensajes\n",
    "for autor, texto, tipo, categoria in st.session_state.chat:\n",
    "    if tipo == \"normal\":\n",
    "        st.markdown(f\"**{autor}**: {texto}\")\n",
    "    elif tipo == \"toxic\":\n",
    "        st.markdown(f\"<div style='color:gray;'><strong>{autor}</strong>: {texto}</div>\", unsafe_allow_html=True)\n",
    "    elif tipo == \"banned\":\n",
    "        st.markdown(f\"<div style='color:red;'><strong>{autor}</strong>: {texto}</div>\", unsafe_allow_html=True)\n",
    "'''\n",
    "with open(\"chat_app.py\", \"w\", encoding=\"utf-8\") as f:\n",
    "    f.write(app_code)\n",
    "\n",
    "print(\"✅ App actualizada con control de categorías, visualización y limpieza.\")\n"
   ]
  },
  {
   "cell_type": "code",
   "execution_count": null,
   "id": "e9428ce1",
   "metadata": {},
   "outputs": [],
   "source": [
    "import os\n",
    "os.system(\"streamlit run chat_app.py\")\n"
   ]
  }
 ],
 "metadata": {
  "kernelspec": {
   "display_name": "TFG-HP",
   "language": "python",
   "name": "python3"
  },
  "language_info": {
   "codemirror_mode": {
    "name": "ipython",
    "version": 3
   },
   "file_extension": ".py",
   "mimetype": "text/x-python",
   "name": "python",
   "nbconvert_exporter": "python",
   "pygments_lexer": "ipython3",
   "version": "3.12.9"
  }
 },
 "nbformat": 4,
 "nbformat_minor": 5
}
