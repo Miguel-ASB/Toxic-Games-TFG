{
 "cells": [
  {
   "cell_type": "code",
   "execution_count": 1,
   "metadata": {},
   "outputs": [],
   "source": [
    "import pandas as pd\n",
    "import numpy as np\n",
    "import matplotlib.pyplot as plt\n",
    "import seaborn as sns\n"
   ]
  },
  {
   "cell_type": "code",
   "execution_count": 9,
   "metadata": {},
   "outputs": [],
   "source": [
    "#load data\n",
    "data = pd.read_csv(r\"C:\\Users\\migui\\OneDrive - UFV\\4ºBA\\TFG\\SetDatos\\dota2_chat_messages.csv\")"
   ]
  },
  {
   "cell_type": "code",
   "execution_count": 10,
   "metadata": {},
   "outputs": [
    {
     "name": "stdout",
     "output_type": "stream",
     "text": [
      "   match        time  slot            text\n",
      "0      0  1005.12122     9       ладно гг \n",
      "1      0  1005.85442     9             изи\n",
      "2      0  1008.65372     9              од\n",
      "3      0  1010.51992     9          ебаный\n",
      "4      0  1013.91912     9  мусор на войде\n",
      "<class 'pandas.core.frame.DataFrame'>\n",
      "RangeIndex: 21659448 entries, 0 to 21659447\n",
      "Data columns (total 4 columns):\n",
      " #   Column  Dtype  \n",
      "---  ------  -----  \n",
      " 0   match   int64  \n",
      " 1   time    float64\n",
      " 2   slot    int64  \n",
      " 3   text    object \n",
      "dtypes: float64(1), int64(2), object(1)\n",
      "memory usage: 661.0+ MB\n",
      "None\n",
      "              match          time          slot\n",
      "count  2.165945e+07  2.165945e+07  2.165945e+07\n",
      "mean   4.996186e+05  1.457327e+03  4.504226e+00\n",
      "std    2.888392e+05  9.540682e+02  2.875228e+00\n",
      "min    0.000000e+00 -1.068088e+03  0.000000e+00\n",
      "25%    2.493490e+05  7.288557e+02  2.000000e+00\n",
      "50%    4.994910e+05  1.501327e+03  5.000000e+00\n",
      "75%    7.498670e+05  2.118162e+03  7.000000e+00\n",
      "max    9.999990e+05  8.443546e+03  9.000000e+00\n"
     ]
    }
   ],
   "source": [
    "print(data.head())  # Muestra las primeras filas\n",
    "print(data.info())  # Información de columnas y tipos de datos\n",
    "print(data.describe())  # Estadísticas de las columnas numéricas\n"
   ]
  },
  {
   "cell_type": "code",
   "execution_count": 11,
   "metadata": {},
   "outputs": [
    {
     "name": "stdout",
     "output_type": "stream",
     "text": [
      "match      0\n",
      "time       0\n",
      "slot       0\n",
      "text     243\n",
      "dtype: int64\n",
      "Total de valores nulos: 243\n"
     ]
    }
   ],
   "source": [
    "# Contar valores nulos por columna\n",
    "valores_nulos = data.isnull().sum()\n",
    "print(valores_nulos)\n",
    "\n",
    "# Contar el total de valores nulos\n",
    "total_nulos = data.isnull().sum().sum()\n",
    "print(\"Total de valores nulos:\", total_nulos)"
   ]
  },
  {
   "cell_type": "code",
   "execution_count": 12,
   "metadata": {},
   "outputs": [
    {
     "name": "stdout",
     "output_type": "stream",
     "text": [
      "Mean length of text 10.344593361751416\n",
      "    match        time  slot                                text\n",
      "0       0  1005.12122     9                           ладно гг \n",
      "1       0  1005.85442     9                                 изи\n",
      "2       0  1008.65372     9                                  од\n",
      "3       0  1010.51992     9                              ебаный\n",
      "4       0  1013.91912     9                      мусор на войде\n",
      "5       0  1800.31402     9                              мусор \n",
      "6       0  1801.71882     9                            на войде\n",
      "7       0  1802.98982     9                              репорт\n",
      "8       0  1808.40822     9                                100%\n",
      "9       1  -131.14018     0              twitch.tv/rage_channel\n",
      "10      1  -121.60481     0  https://www.twitch.tv/rage_channel\n",
      "11      1   244.47367     7                      2 даша подряд \n",
      "12      1   249.93900     7                               баша \n",
      "13      1   255.00443     4                           где даша?\n",
      "14      1   261.20293     4                          даша домой\n"
     ]
    }
   ],
   "source": [
    "# Fill NaN values with an empty string\n",
    "data['text'] = data['text'].fillna('')\n",
    "\n",
    "print('Mean length of text', data['text'].apply(lambda x: len(x)).mean())\n",
    "print(data.head(15))"
   ]
  }
 ],
 "metadata": {
  "kernelspec": {
   "display_name": "TFG",
   "language": "python",
   "name": "python3"
  },
  "language_info": {
   "codemirror_mode": {
    "name": "ipython",
    "version": 3
   },
   "file_extension": ".py",
   "mimetype": "text/x-python",
   "name": "python",
   "nbconvert_exporter": "python",
   "pygments_lexer": "ipython3",
   "version": "3.9.21"
  }
 },
 "nbformat": 4,
 "nbformat_minor": 2
}
