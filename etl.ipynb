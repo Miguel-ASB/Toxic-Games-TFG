{
 "cells": [
  {
   "cell_type": "code",
   "execution_count": 1,
   "metadata": {},
   "outputs": [
    {
     "name": "stderr",
     "output_type": "stream",
     "text": [
      "c:\\Users\\migui\\anaconda3\\envs\\TFG\\Lib\\site-packages\\tqdm\\auto.py:21: TqdmWarning: IProgress not found. Please update jupyter and ipywidgets. See https://ipywidgets.readthedocs.io/en/stable/user_install.html\n",
      "  from .autonotebook import tqdm as notebook_tqdm\n"
     ]
    }
   ],
   "source": [
    "import os\n",
    "import random\n",
    "import pandas as pd\n",
    "import numpy as np\n",
    "import matplotlib.pyplot as plt\n",
    "import seaborn as sns\n",
    "import torch\n",
    "from transformers import AutoTokenizer, pipeline\n",
    "from transformers import AutoModelForSeq2SeqLM\n",
    "from transformers import AutoModelForSequenceClassification\n",
    "\n"
   ]
  },
  {
   "cell_type": "code",
   "execution_count": 2,
   "metadata": {},
   "outputs": [],
   "source": [
    "#load data\n",
    "data = pd.read_csv(r'C:\\Users\\migui\\OneDrive - UFV\\4ºBA\\TFG\\SetDatos\\dota2_chat_messages.csv', encoding='utf-8')"
   ]
  },
  {
   "cell_type": "code",
   "execution_count": 3,
   "metadata": {},
   "outputs": [
    {
     "name": "stdout",
     "output_type": "stream",
     "text": [
      "   match        time  slot            text\n",
      "0      0  1005.12122     9       ладно гг \n",
      "1      0  1005.85442     9             изи\n",
      "2      0  1008.65372     9              од\n",
      "3      0  1010.51992     9          ебаный\n",
      "4      0  1013.91912     9  мусор на войде\n",
      "<class 'pandas.core.frame.DataFrame'>\n",
      "RangeIndex: 21659448 entries, 0 to 21659447\n",
      "Data columns (total 4 columns):\n",
      " #   Column  Dtype  \n",
      "---  ------  -----  \n",
      " 0   match   int64  \n",
      " 1   time    float64\n",
      " 2   slot    int64  \n",
      " 3   text    object \n",
      "dtypes: float64(1), int64(2), object(1)\n",
      "memory usage: 661.0+ MB\n",
      "None\n",
      "              match          time          slot\n",
      "count  2.165945e+07  2.165945e+07  2.165945e+07\n",
      "mean   4.996186e+05  1.457327e+03  4.504226e+00\n",
      "std    2.888392e+05  9.540682e+02  2.875228e+00\n",
      "min    0.000000e+00 -1.068088e+03  0.000000e+00\n",
      "25%    2.493490e+05  7.288557e+02  2.000000e+00\n",
      "50%    4.994910e+05  1.501327e+03  5.000000e+00\n",
      "75%    7.498670e+05  2.118162e+03  7.000000e+00\n",
      "max    9.999990e+05  8.443546e+03  9.000000e+00\n"
     ]
    }
   ],
   "source": [
    "print(data.head())  # Muestra las primeras filas\n",
    "print(data.info())  # Información de columnas y tipos de datos\n",
    "print(data.describe())  # Estadísticas de las columnas numéricas\n"
   ]
  },
  {
   "cell_type": "code",
   "execution_count": 4,
   "metadata": {},
   "outputs": [
    {
     "name": "stdout",
     "output_type": "stream",
     "text": [
      "match      0\n",
      "time       0\n",
      "slot       0\n",
      "text     243\n",
      "dtype: int64\n",
      "Total de valores nulos: 243\n"
     ]
    }
   ],
   "source": [
    "# Contar valores nulos por columna\n",
    "valores_nulos = data.isnull().sum()\n",
    "print(valores_nulos)\n",
    "\n",
    "# Contar el total de valores nulos\n",
    "total_nulos = data.isnull().sum().sum()\n",
    "print(\"Total de valores nulos:\", total_nulos)"
   ]
  },
  {
   "cell_type": "code",
   "execution_count": 5,
   "metadata": {},
   "outputs": [
    {
     "name": "stdout",
     "output_type": "stream",
     "text": [
      "Mean length of text 10.344593361751416\n",
      "    match        time  slot                                text\n",
      "0       0  1005.12122     9                           ладно гг \n",
      "1       0  1005.85442     9                                 изи\n",
      "2       0  1008.65372     9                                  од\n",
      "3       0  1010.51992     9                              ебаный\n",
      "4       0  1013.91912     9                      мусор на войде\n",
      "5       0  1800.31402     9                              мусор \n",
      "6       0  1801.71882     9                            на войде\n",
      "7       0  1802.98982     9                              репорт\n",
      "8       0  1808.40822     9                                100%\n",
      "9       1  -131.14018     0              twitch.tv/rage_channel\n",
      "10      1  -121.60481     0  https://www.twitch.tv/rage_channel\n",
      "11      1   244.47367     7                      2 даша подряд \n",
      "12      1   249.93900     7                               баша \n",
      "13      1   255.00443     4                           где даша?\n",
      "14      1   261.20293     4                          даша домой\n"
     ]
    }
   ],
   "source": [
    "# Fill NaN values with an empty string\n",
    "data['text'] = data['text'].fillna('')\n",
    "\n",
    "print('Mean length of text', data['text'].apply(lambda x: len(x)).mean())\n",
    "print(data.head(15))"
   ]
  },
  {
   "cell_type": "code",
   "execution_count": 6,
   "metadata": {},
   "outputs": [
    {
     "name": "stdout",
     "output_type": "stream",
     "text": [
      "using device: cuda\n",
      "device number: 0\n",
      "device name: NVIDIA GeForce RTX 3060 Ti\n"
     ]
    }
   ],
   "source": [
    "device = torch.device(\"cuda\" if torch.cuda.is_available() else \"cpu\")\n",
    "\n",
    "print(f\"using device: {device}\")\n",
    "\n",
    "devNum = torch.cuda.current_device()\n",
    "\n",
    "print(f\"device number: {devNum}\")\n",
    "\n",
    "devName = torch.cuda.get_device_name(devNum)\n",
    "\n",
    "print(f\"device name: {devName}\")"
   ]
  },
  {
   "cell_type": "code",
   "execution_count": null,
   "metadata": {},
   "outputs": [],
   "source": [
    "\n",
    "\n",
    "def translator(src: str, dest: str):\n",
    "    src = src.lower()\n",
    "    dest = dest.lower()\n",
    "    tokenizer = AutoTokenizer\\\n",
    "                    .from_pretrained(f\"Helsinki-NLP/opus-mt-{src}-{dest}\")\n",
    "    model = AutoModelForSeq2SeqLM\\\n",
    "                    .from_pretrained(f\"Helsinki-NLP/opus-mt-{src}-{dest}\")\n",
    "    return pipeline(task='translation',\n",
    "                    model=model, tokenizer=tokenizer, device=0) #Device 0 is the GPU\n",
    "\n",
    "\n"
   ]
  },
  {
   "cell_type": "code",
   "execution_count": 11,
   "metadata": {},
   "outputs": [
    {
     "name": "stderr",
     "output_type": "stream",
     "text": [
      "c:\\Users\\migui\\anaconda3\\envs\\TFG\\Lib\\site-packages\\transformers\\models\\marian\\tokenization_marian.py:175: UserWarning: Recommended: pip install sacremoses.\n",
      "  warnings.warn(\"Recommended: pip install sacremoses.\")\n"
     ]
    },
    {
     "data": {
      "text/html": [
       "<div>\n",
       "<style scoped>\n",
       "    .dataframe tbody tr th:only-of-type {\n",
       "        vertical-align: middle;\n",
       "    }\n",
       "\n",
       "    .dataframe tbody tr th {\n",
       "        vertical-align: top;\n",
       "    }\n",
       "\n",
       "    .dataframe thead th {\n",
       "        text-align: right;\n",
       "    }\n",
       "</style>\n",
       "<table border=\"1\" class=\"dataframe\">\n",
       "  <thead>\n",
       "    <tr style=\"text-align: right;\">\n",
       "      <th></th>\n",
       "      <th>match</th>\n",
       "      <th>time</th>\n",
       "      <th>slot</th>\n",
       "      <th>text</th>\n",
       "      <th>text_en</th>\n",
       "    </tr>\n",
       "  </thead>\n",
       "  <tbody>\n",
       "    <tr>\n",
       "      <th>11141217</th>\n",
       "      <td>513859</td>\n",
       "      <td>806.40315</td>\n",
       "      <td>4</td>\n",
       "      <td>С ПЕРВОЙ ЖЕ ТЫЧКИ</td>\n",
       "      <td>WITH THE FIRST THING</td>\n",
       "    </tr>\n",
       "    <tr>\n",
       "      <th>13679699</th>\n",
       "      <td>631833</td>\n",
       "      <td>15.29627</td>\n",
       "      <td>8</td>\n",
       "      <td>)</td>\n",
       "      <td>)</td>\n",
       "    </tr>\n",
       "    <tr>\n",
       "      <th>3883272</th>\n",
       "      <td>178751</td>\n",
       "      <td>2568.39446</td>\n",
       "      <td>1</td>\n",
       "      <td>mate</td>\n",
       "      <td>mate</td>\n",
       "    </tr>\n",
       "    <tr>\n",
       "      <th>15678185</th>\n",
       "      <td>723699</td>\n",
       "      <td>2056.01740</td>\n",
       "      <td>8</td>\n",
       "      <td>mmr</td>\n",
       "      <td>mmr</td>\n",
       "    </tr>\n",
       "    <tr>\n",
       "      <th>4424318</th>\n",
       "      <td>203408</td>\n",
       "      <td>570.59402</td>\n",
       "      <td>5</td>\n",
       "      <td>shit happens</td>\n",
       "      <td>Shit happens</td>\n",
       "    </tr>\n",
       "    <tr>\n",
       "      <th>4878046</th>\n",
       "      <td>224573</td>\n",
       "      <td>-48.75477</td>\n",
       "      <td>8</td>\n",
       "      <td>z</td>\n",
       "      <td>z</td>\n",
       "    </tr>\n",
       "    <tr>\n",
       "      <th>12127859</th>\n",
       "      <td>559849</td>\n",
       "      <td>217.18033</td>\n",
       "      <td>3</td>\n",
       "      <td>ливанул на 2 минуты</td>\n",
       "      <td>I lost it for two minutes.</td>\n",
       "    </tr>\n",
       "    <tr>\n",
       "      <th>2101627</th>\n",
       "      <td>96645</td>\n",
       "      <td>1206.47213</td>\n",
       "      <td>7</td>\n",
       "      <td>Wew</td>\n",
       "      <td>Wew</td>\n",
       "    </tr>\n",
       "    <tr>\n",
       "      <th>3508732</th>\n",
       "      <td>161390</td>\n",
       "      <td>1943.99095</td>\n",
       "      <td>4</td>\n",
       "      <td>you need</td>\n",
       "      <td>Whoa, whoa, whoa, whoa, whoa, whoa, whoa, whoa...</td>\n",
       "    </tr>\n",
       "    <tr>\n",
       "      <th>10375486</th>\n",
       "      <td>478341</td>\n",
       "      <td>1780.15512</td>\n",
       "      <td>3</td>\n",
       "      <td>just liek your grammar</td>\n",
       "      <td>Just leek you grammar</td>\n",
       "    </tr>\n",
       "  </tbody>\n",
       "</table>\n",
       "</div>"
      ],
      "text/plain": [
       "           match        time  slot                    text  \\\n",
       "11141217  513859   806.40315     4       С ПЕРВОЙ ЖЕ ТЫЧКИ   \n",
       "13679699  631833    15.29627     8                       )   \n",
       "3883272   178751  2568.39446     1                    mate   \n",
       "15678185  723699  2056.01740     8                     mmr   \n",
       "4424318   203408   570.59402     5            shit happens   \n",
       "4878046   224573   -48.75477     8                       z   \n",
       "12127859  559849   217.18033     3     ливанул на 2 минуты   \n",
       "2101627    96645  1206.47213     7                     Wew   \n",
       "3508732   161390  1943.99095     4                you need   \n",
       "10375486  478341  1780.15512     3  just liek your grammar   \n",
       "\n",
       "                                                    text_en  \n",
       "11141217                               WITH THE FIRST THING  \n",
       "13679699                                                  )  \n",
       "3883272                                                mate  \n",
       "15678185                                                mmr  \n",
       "4424318                                        Shit happens  \n",
       "4878046                                                   z  \n",
       "12127859                         I lost it for two minutes.  \n",
       "2101627                                                 Wew  \n",
       "3508732   Whoa, whoa, whoa, whoa, whoa, whoa, whoa, whoa...  \n",
       "10375486                              Just leek you grammar  "
      ]
     },
     "execution_count": 11,
     "metadata": {},
     "output_type": "execute_result"
    }
   ],
   "source": [
    "df_sample = data.sample(50)\n",
    "translate = translator('ru', 'en')\n",
    "with torch.no_grad():\n",
    "    translated_text = translate([t[:100] for t in list(df_sample['text'])])\n",
    "df_sample['text_en'] = [t['translation_text'] for t in translated_text]\n",
    "df_sample.head(10)"
   ]
  }
 ],
 "metadata": {
  "kernelspec": {
   "display_name": "TFG",
   "language": "python",
   "name": "python3"
  },
  "language_info": {
   "codemirror_mode": {
    "name": "ipython",
    "version": 3
   },
   "file_extension": ".py",
   "mimetype": "text/x-python",
   "name": "python",
   "nbconvert_exporter": "python",
   "pygments_lexer": "ipython3",
   "version": "3.12.8"
  }
 },
 "nbformat": 4,
 "nbformat_minor": 2
}
