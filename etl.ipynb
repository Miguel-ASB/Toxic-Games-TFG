{
 "cells": [
  {
   "cell_type": "code",
   "execution_count": 2,
   "metadata": {},
   "outputs": [],
   "source": [
    "import pandas as pd\n",
    "import numpy as np\n",
    "import matplotlib.pyplot as plt\n",
    "import seaborn as sns\n"
   ]
  },
  {
   "cell_type": "code",
   "execution_count": 9,
   "metadata": {},
   "outputs": [],
   "source": [
    "#load data\n",
    "data = pd.read_csv(r\"C:\\Users\\migui\\OneDrive - UFV\\4ºBA\\TFG\\SetDatos\\dota2_chat_messages.csv\")"
   ]
  },
  {
   "cell_type": "code",
   "execution_count": 10,
   "metadata": {},
   "outputs": [
    {
     "name": "stdout",
     "output_type": "stream",
     "text": [
      "   match        time  slot            text\n",
      "0      0  1005.12122     9       ладно гг \n",
      "1      0  1005.85442     9             изи\n",
      "2      0  1008.65372     9              од\n",
      "3      0  1010.51992     9          ебаный\n",
      "4      0  1013.91912     9  мусор на войде\n",
      "<class 'pandas.core.frame.DataFrame'>\n",
      "RangeIndex: 21659448 entries, 0 to 21659447\n",
      "Data columns (total 4 columns):\n",
      " #   Column  Dtype  \n",
      "---  ------  -----  \n",
      " 0   match   int64  \n",
      " 1   time    float64\n",
      " 2   slot    int64  \n",
      " 3   text    object \n",
      "dtypes: float64(1), int64(2), object(1)\n",
      "memory usage: 661.0+ MB\n",
      "None\n",
      "              match          time          slot\n",
      "count  2.165945e+07  2.165945e+07  2.165945e+07\n",
      "mean   4.996186e+05  1.457327e+03  4.504226e+00\n",
      "std    2.888392e+05  9.540682e+02  2.875228e+00\n",
      "min    0.000000e+00 -1.068088e+03  0.000000e+00\n",
      "25%    2.493490e+05  7.288557e+02  2.000000e+00\n",
      "50%    4.994910e+05  1.501327e+03  5.000000e+00\n",
      "75%    7.498670e+05  2.118162e+03  7.000000e+00\n",
      "max    9.999990e+05  8.443546e+03  9.000000e+00\n"
     ]
    }
   ],
   "source": [
    "print(data.head())  # Muestra las primeras filas\n",
    "print(data.info())  # Información de columnas y tipos de datos\n",
    "print(data.describe())  # Estadísticas de las columnas numéricas\n"
   ]
  }
 ],
 "metadata": {
  "kernelspec": {
   "display_name": "TFG",
   "language": "python",
   "name": "python3"
  },
  "language_info": {
   "codemirror_mode": {
    "name": "ipython",
    "version": 3
   },
   "file_extension": ".py",
   "mimetype": "text/x-python",
   "name": "python",
   "nbconvert_exporter": "python",
   "pygments_lexer": "ipython3",
   "version": "3.9.21"
  }
 },
 "nbformat": 4,
 "nbformat_minor": 2
}
